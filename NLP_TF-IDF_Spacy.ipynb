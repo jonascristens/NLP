{
 "cells": [
  {
   "cell_type": "markdown",
   "metadata": {},
   "source": [
    "# TF-IDF - Spacy"
   ]
  },
  {
   "cell_type": "markdown",
   "metadata": {},
   "source": [
    "## The data"
   ]
  },
  {
   "cell_type": "code",
   "execution_count": 1,
   "metadata": {},
   "outputs": [],
   "source": [
    "# Source: http://billchambers.me/tutorials/2014/12/21/tf-idf-explained-in-python.html\n",
    "\n",
    "t0 = \"China has a strong economy that is growing at a rapid pace. However politically it differs greatly from the US Economy.\"\n",
    "t1 = \"At last, China seems serious about confronting an endemic problem: domestic violence and corruption.\"\n",
    "t2 = \"Japan's prime minister, Shinzo Abe, is working towards healing the economic turmoil in his own country for his view on the future of his people.\"\n",
    "t3 = \"Vladimir Putin is working hard to fix the economy in Russia as the Ruble has tumbled.\"\n",
    "t4 = \"What's the future of Abenomics? We asked Shinzo Abe for his views\"\n",
    "t5 = \"Obama has eased sanctions on Cuba while accelerating those against the Russian Economy, even as the Ruble's value falls almost daily.\"\n",
    "t6 = \"Vladimir Putin was found to be riding a horse, again, without a shirt on while hunting deer. Vladimir Putin always seems so serious about things - even riding horses.\""
   ]
  },
  {
   "cell_type": "markdown",
   "metadata": {},
   "source": [
    "## Load the required libraries and set the display options"
   ]
  },
  {
   "cell_type": "code",
   "execution_count": 2,
   "metadata": {},
   "outputs": [],
   "source": [
    "import spacy\n",
    "from spacy.lang.en.stop_words import STOP_WORDS\n",
    "import pandas as pd\n",
    "import seaborn as sns\n",
    "import matplotlib.pyplot as plt\n",
    "\n",
    "# change the max width of pandas rows and columns to display\n",
    "pd.set_option('display.max_rows', 500)\n",
    "pd.set_option('display.max_columns', 500)\n",
    "pd.set_option('display.width', 1000)"
   ]
  },
  {
   "cell_type": "markdown",
   "metadata": {},
   "source": [
    "## Requirements for the exercices"
   ]
  },
  {
   "cell_type": "markdown",
   "metadata": {},
   "source": [
    "Load the English spacy language"
   ]
  },
  {
   "cell_type": "code",
   "execution_count": 3,
   "metadata": {},
   "outputs": [],
   "source": [
    "nlp = spacy.load('en')"
   ]
  },
  {
   "cell_type": "markdown",
   "metadata": {},
   "source": [
    "Convert the list of strings to a list of spaCy documents to use later."
   ]
  },
  {
   "cell_type": "code",
   "execution_count": 4,
   "metadata": {},
   "outputs": [],
   "source": [
    "l_strings = [t0, t1, t2,t3,t4,t5,t6]\n",
    "s_doc_list = [nlp(i) for i in l_strings]"
   ]
  },
  {
   "cell_type": "markdown",
   "metadata": {},
   "source": [
    "Define the lemmatization function which removes the punctuations, spaces and stop words, 'US' and 'POS' but not \"'s\""
   ]
  },
  {
   "cell_type": "code",
   "execution_count": 5,
   "metadata": {},
   "outputs": [],
   "source": [
    "def lemmatize(doc):\n",
    "    return [\n",
    "        token.lemma_ for token in doc\n",
    "        if not token.is_punct and not token.is_space\n",
    "        and (token.text == \"US\" or not token.lower_ in STOP_WORDS )\n",
    "        and not token.tag_ == \"POS\" or token.text == \"'s\"\n",
    "    ]"
   ]
  },
  {
   "cell_type": "markdown",
   "metadata": {},
   "source": [
    "## 1. Write a function tf that receives a string and a spaCy Doc and returns the number of times the word appears in the lemmatized Doc"
   ]
  },
  {
   "cell_type": "code",
   "execution_count": 6,
   "metadata": {},
   "outputs": [],
   "source": [
    "def tf(s, doc):\n",
    "    '''\n",
    "    param 1: s = the string based on which you want to calculate the tf (term frequency)\n",
    "    Note: s will be converted to lowercase for the calculation.\n",
    "    param 2: doc = a spaCy doc over which you want to calculate the tf\n",
    "    \n",
    "    return the tf (term frequency) of the first parameter in the spaCy doc (second parameter)\n",
    "    '''\n",
    "    lem = lemmatize(doc)\n",
    "    return lem.count(s.lower())\n"
   ]
  },
  {
   "cell_type": "code",
   "execution_count": 7,
   "metadata": {
    "scrolled": true
   },
   "outputs": [
    {
     "data": {
      "text/plain": [
       "2"
      ]
     },
     "execution_count": 7,
     "metadata": {},
     "output_type": "execute_result"
    }
   ],
   "source": [
    "tf(\"horse\", nlp(t6))"
   ]
  },
  {
   "cell_type": "markdown",
   "metadata": {},
   "source": [
    "The word 'horse' occurs 2 times in t6."
   ]
  },
  {
   "cell_type": "markdown",
   "metadata": {},
   "source": [
    "## 2. Write a function idf that receives a string and a list of spaCy Docs and returns the inverse of the number of docs that contain the word"
   ]
  },
  {
   "cell_type": "code",
   "execution_count": 8,
   "metadata": {},
   "outputs": [],
   "source": [
    "def idf(s, docs):\n",
    "    '''\n",
    "    param 1: s = the string based on which you want to calculate the IDF (inverse document frequency). \n",
    "    Note: s will be converted to lowercase for the calculation.\n",
    "    param 2: docs = list of spaCy docs over which you want to calculate the IDF\n",
    "    \n",
    "    return the IDF (inverse document frequency) of the first parameter over all the docs (param 2)\n",
    "    if s not in docs return 0.\n",
    "    '''\n",
    "    doc_counter = 0\n",
    "    \n",
    "    for doc in docs:\n",
    "        if tf(s, doc) > 0:\n",
    "            doc_counter += 1\n",
    "    \n",
    "    if doc_counter>0:\n",
    "        return 1/doc_counter\n",
    "    # if s not in docs return 0 to prevent dividing by 0\n",
    "    else:\n",
    "        return 0"
   ]
  },
  {
   "cell_type": "code",
   "execution_count": 9,
   "metadata": {
    "scrolled": true
   },
   "outputs": [
    {
     "data": {
      "text/plain": [
       "1.0"
      ]
     },
     "execution_count": 9,
     "metadata": {},
     "output_type": "execute_result"
    }
   ],
   "source": [
    "idf('horse', s_doc_list)"
   ]
  },
  {
   "cell_type": "markdown",
   "metadata": {},
   "source": [
    "The inverse docuemnt frequency of 'horse' is 1."
   ]
  },
  {
   "cell_type": "markdown",
   "metadata": {},
   "source": [
    "## 3. Write a function `tf_idf` that receives a string, a spaCy `Doc` and a list of spaCy `Doc`s and returns the product of `tf(t, d) · idf(t, D)`. (Extra point if you check if the doc belongs to the docs.)"
   ]
  },
  {
   "cell_type": "markdown",
   "metadata": {},
   "source": [
    "This function includes an extra check which checks if the document (second parameter) is in the list of spaCy documents (parameter 3) based on it's similarity else raise an error."
   ]
  },
  {
   "cell_type": "code",
   "execution_count": 10,
   "metadata": {},
   "outputs": [],
   "source": [
    "def tf_idf(s, doc, docs):\n",
    "    '''\n",
    "    param 1: s = the string based on which you want to calculate the the product of tf (term frequency) and idf (inverse document frequency)\n",
    "    Note: s will be converted to lowercase for the calculation.\n",
    "    param 2: doc = the spaCy doc over which the tf (term frequency) will be calculated.\n",
    "    Note: doc (param 2) has to be in docs (param 3)\n",
    "    param 3: docs = list of spaCy docs over which the idf (inverse document frequency) is calculted\n",
    "    \n",
    "    ValueError: when doc is not in docs\n",
    "    \n",
    "    return the prodcut of tf(s, doc) (term frequency) and idf(doc, docs) (inverse document frequency)\n",
    "    '''\n",
    "    \n",
    "    sim = [doc.similarity(i) for i in docs]\n",
    "    \n",
    "    if 1.0 in sim:\n",
    "        term_freq = tf(s, doc)\n",
    "        inv_doc_freq = idf(s, docs)\n",
    "        return term_freq * inv_doc_freq\n",
    "    else:\n",
    "        raise ValueError('The doc (argument 2) is not in the list of spaCy docs (argument 3))')\n",
    "    "
   ]
  },
  {
   "cell_type": "code",
   "execution_count": 11,
   "metadata": {},
   "outputs": [
    {
     "data": {
      "text/plain": [
       "0.6666666666666666"
      ]
     },
     "execution_count": 11,
     "metadata": {},
     "output_type": "execute_result"
    }
   ],
   "source": [
    "tf_idf('economy', nlp(t0), s_doc_list)"
   ]
  },
  {
   "cell_type": "markdown",
   "metadata": {},
   "source": [
    "The TF-IDF value of 'economy' is 0.666... in t0."
   ]
  },
  {
   "cell_type": "markdown",
   "metadata": {},
   "source": [
    "## 4. Write a function `all_lemmas` that receives a list of `Doc`s and returns a `set` of all available `lemma`s"
   ]
  },
  {
   "cell_type": "code",
   "execution_count": 12,
   "metadata": {},
   "outputs": [],
   "source": [
    "def all_lemmas(docs):\n",
    "    '''\n",
    "    param 1: docs = List of spaCy docs over where the lemmas will be calculated\n",
    "    \n",
    "    return a set of unique lemmatized words over all the docs passed in the first parameter.\n",
    "    '''\n",
    "    lemmas = set()\n",
    "    for doc in docs:\n",
    "        lemmas |= set(lemmatize(doc))\n",
    "    return lemmas         "
   ]
  },
  {
   "cell_type": "code",
   "execution_count": 13,
   "metadata": {},
   "outputs": [
    {
     "data": {
      "text/plain": [
       "{\"'s\",\n",
       " 'abe',\n",
       " 'abenomics',\n",
       " 'accelerate',\n",
       " 'ask',\n",
       " 'be',\n",
       " 'china',\n",
       " 'confront',\n",
       " 'corruption',\n",
       " 'country',\n",
       " 'cuba',\n",
       " 'daily',\n",
       " 'deer',\n",
       " 'differ',\n",
       " 'domestic',\n",
       " 'ease',\n",
       " 'economic',\n",
       " 'economy',\n",
       " 'endemic',\n",
       " 'fall',\n",
       " 'find',\n",
       " 'fix',\n",
       " 'future',\n",
       " 'greatly',\n",
       " 'grow',\n",
       " 'hard',\n",
       " 'heal',\n",
       " 'horse',\n",
       " 'hunt',\n",
       " 'japan',\n",
       " 'minister',\n",
       " 'obama',\n",
       " 'pace',\n",
       " 'people',\n",
       " 'politically',\n",
       " 'prime',\n",
       " 'problem',\n",
       " 'putin',\n",
       " 'rapid',\n",
       " 'rid',\n",
       " 'ruble',\n",
       " 'russia',\n",
       " 'russian',\n",
       " 'sanction',\n",
       " 'shinzo',\n",
       " 'shirt',\n",
       " 'strong',\n",
       " 'thing',\n",
       " 'tumble',\n",
       " 'turmoil',\n",
       " 'us',\n",
       " 'value',\n",
       " 'view',\n",
       " 'violence',\n",
       " 'vladimir',\n",
       " 'work'}"
      ]
     },
     "execution_count": 13,
     "metadata": {},
     "output_type": "execute_result"
    }
   ],
   "source": [
    "all_lemmas(s_doc_list)"
   ]
  },
  {
   "cell_type": "markdown",
   "metadata": {},
   "source": [
    "## 5. Write a function `tf_idf_doc` that receives a `Doc` and a list of `Doc`s and returns a dictionary of `{lemma: TF-IDF value}`, corresponding to each the lemmas of all the available documents"
   ]
  },
  {
   "cell_type": "code",
   "execution_count": 14,
   "metadata": {},
   "outputs": [],
   "source": [
    "def tf_idf_doc(doc, docs):\n",
    "    '''\n",
    "    param 1: doc = the spaCy doc over which the tf_idf will be calculated  \n",
    "    param 2: docs = List of spaCy docs over where the tf_idf values will be calculated\n",
    "    \n",
    "    return a dictionary of {lemma: TF-IDF value} corresponding to each of the available documents\n",
    "    '''\n",
    "    lemmas = all_lemmas(docs)\n",
    "    lemma_scores = {lemma : tf_idf(lemma, doc, docs) for lemma in lemmas}\n",
    "    return lemma_scores"
   ]
  },
  {
   "cell_type": "code",
   "execution_count": 15,
   "metadata": {},
   "outputs": [
    {
     "data": {
      "text/plain": [
       "{'future': 0.5,\n",
       " 'differ': 0.0,\n",
       " 'horse': 0.0,\n",
       " 'strong': 0.0,\n",
       " 'putin': 0.0,\n",
       " 'confront': 0.0,\n",
       " 'be': 0.0,\n",
       " 'abe': 0.5,\n",
       " 'economy': 0.0,\n",
       " \"'s\": 0.5,\n",
       " 'politically': 0.0,\n",
       " 'hard': 0.0,\n",
       " 'people': 1.0,\n",
       " 'find': 0.0,\n",
       " 'problem': 0.0,\n",
       " 'deer': 0.0,\n",
       " 'fix': 0.0,\n",
       " 'fall': 0.0,\n",
       " 'obama': 0.0,\n",
       " 'turmoil': 1.0,\n",
       " 'corruption': 0.0,\n",
       " 'ease': 0.0,\n",
       " 'daily': 0.0,\n",
       " 'shinzo': 0.5,\n",
       " 'economic': 1.0,\n",
       " 'vladimir': 0.0,\n",
       " 'hunt': 0.0,\n",
       " 'accelerate': 0.0,\n",
       " 'rid': 0.0,\n",
       " 'us': 0.0,\n",
       " 'tumble': 0.0,\n",
       " 'endemic': 0.0,\n",
       " 'violence': 0.0,\n",
       " 'pace': 0.0,\n",
       " 'russia': 0.0,\n",
       " 'ask': 0.0,\n",
       " 'rapid': 0.0,\n",
       " 'china': 0.0,\n",
       " 'view': 0.5,\n",
       " 'abenomics': 0.0,\n",
       " 'japan': 1.0,\n",
       " 'thing': 0.0,\n",
       " 'heal': 1.0,\n",
       " 'ruble': 0.0,\n",
       " 'russian': 0.0,\n",
       " 'domestic': 0.0,\n",
       " 'value': 0.0,\n",
       " 'minister': 1.0,\n",
       " 'greatly': 0.0,\n",
       " 'shirt': 0.0,\n",
       " 'sanction': 0.0,\n",
       " 'prime': 1.0,\n",
       " 'work': 0.5,\n",
       " 'cuba': 0.0,\n",
       " 'country': 1.0,\n",
       " 'grow': 0.0}"
      ]
     },
     "execution_count": 15,
     "metadata": {},
     "output_type": "execute_result"
    }
   ],
   "source": [
    "tf_idf_doc(nlp(t2), s_doc_list)"
   ]
  },
  {
   "cell_type": "markdown",
   "metadata": {},
   "source": [
    "## 6. Write a function `tf_idf_scores` that receives a list of `Doc`s and returns a `DataFrame` displaying the lemmas in the columns and the documents in the rows."
   ]
  },
  {
   "cell_type": "code",
   "execution_count": 16,
   "metadata": {},
   "outputs": [],
   "source": [
    "def tf_idf_scores(docs):\n",
    "    '''\n",
    "    param 1: docs = the spaCy docs over which you want to calculate the tf idf scores\n",
    "    \n",
    "    return a DataFrame displaying the lemmas in the columns and the documents in the rows\n",
    "    '''\n",
    "    l = [tf_idf_doc(doc, docs) for doc in docs]\n",
    "    df = pd.DataFrame(data=l, index=['t'+str(i) for i in range(len(docs))])\n",
    "    return df\n",
    "    "
   ]
  },
  {
   "cell_type": "code",
   "execution_count": 17,
   "metadata": {},
   "outputs": [
    {
     "data": {
      "text/html": [
       "<div>\n",
       "<style scoped>\n",
       "    .dataframe tbody tr th:only-of-type {\n",
       "        vertical-align: middle;\n",
       "    }\n",
       "\n",
       "    .dataframe tbody tr th {\n",
       "        vertical-align: top;\n",
       "    }\n",
       "\n",
       "    .dataframe thead th {\n",
       "        text-align: right;\n",
       "    }\n",
       "</style>\n",
       "<table border=\"1\" class=\"dataframe\">\n",
       "  <thead>\n",
       "    <tr style=\"text-align: right;\">\n",
       "      <th></th>\n",
       "      <th>'s</th>\n",
       "      <th>abe</th>\n",
       "      <th>abenomics</th>\n",
       "      <th>accelerate</th>\n",
       "      <th>ask</th>\n",
       "      <th>be</th>\n",
       "      <th>china</th>\n",
       "      <th>confront</th>\n",
       "      <th>corruption</th>\n",
       "      <th>country</th>\n",
       "      <th>cuba</th>\n",
       "      <th>daily</th>\n",
       "      <th>deer</th>\n",
       "      <th>differ</th>\n",
       "      <th>domestic</th>\n",
       "      <th>ease</th>\n",
       "      <th>economic</th>\n",
       "      <th>economy</th>\n",
       "      <th>endemic</th>\n",
       "      <th>fall</th>\n",
       "      <th>find</th>\n",
       "      <th>fix</th>\n",
       "      <th>future</th>\n",
       "      <th>greatly</th>\n",
       "      <th>grow</th>\n",
       "      <th>hard</th>\n",
       "      <th>heal</th>\n",
       "      <th>horse</th>\n",
       "      <th>hunt</th>\n",
       "      <th>japan</th>\n",
       "      <th>minister</th>\n",
       "      <th>obama</th>\n",
       "      <th>pace</th>\n",
       "      <th>people</th>\n",
       "      <th>politically</th>\n",
       "      <th>prime</th>\n",
       "      <th>problem</th>\n",
       "      <th>putin</th>\n",
       "      <th>rapid</th>\n",
       "      <th>rid</th>\n",
       "      <th>ruble</th>\n",
       "      <th>russia</th>\n",
       "      <th>russian</th>\n",
       "      <th>sanction</th>\n",
       "      <th>shinzo</th>\n",
       "      <th>shirt</th>\n",
       "      <th>strong</th>\n",
       "      <th>thing</th>\n",
       "      <th>tumble</th>\n",
       "      <th>turmoil</th>\n",
       "      <th>us</th>\n",
       "      <th>value</th>\n",
       "      <th>view</th>\n",
       "      <th>violence</th>\n",
       "      <th>vladimir</th>\n",
       "      <th>work</th>\n",
       "    </tr>\n",
       "  </thead>\n",
       "  <tbody>\n",
       "    <tr>\n",
       "      <th>t0</th>\n",
       "      <td>0.0</td>\n",
       "      <td>0.0</td>\n",
       "      <td>0.0</td>\n",
       "      <td>0.0</td>\n",
       "      <td>0.0</td>\n",
       "      <td>0.0</td>\n",
       "      <td>0.5</td>\n",
       "      <td>0.0</td>\n",
       "      <td>0.0</td>\n",
       "      <td>0.0</td>\n",
       "      <td>0.0</td>\n",
       "      <td>0.0</td>\n",
       "      <td>0.0</td>\n",
       "      <td>1.0</td>\n",
       "      <td>0.0</td>\n",
       "      <td>0.0</td>\n",
       "      <td>0.0</td>\n",
       "      <td>0.666667</td>\n",
       "      <td>0.0</td>\n",
       "      <td>0.0</td>\n",
       "      <td>0.0</td>\n",
       "      <td>0.0</td>\n",
       "      <td>0.0</td>\n",
       "      <td>1.0</td>\n",
       "      <td>1.0</td>\n",
       "      <td>0.0</td>\n",
       "      <td>0.0</td>\n",
       "      <td>0.0</td>\n",
       "      <td>0.0</td>\n",
       "      <td>0.0</td>\n",
       "      <td>0.0</td>\n",
       "      <td>0.0</td>\n",
       "      <td>1.0</td>\n",
       "      <td>0.0</td>\n",
       "      <td>1.0</td>\n",
       "      <td>0.0</td>\n",
       "      <td>0.0</td>\n",
       "      <td>0.0</td>\n",
       "      <td>1.0</td>\n",
       "      <td>0.0</td>\n",
       "      <td>0.0</td>\n",
       "      <td>0.0</td>\n",
       "      <td>0.0</td>\n",
       "      <td>0.0</td>\n",
       "      <td>0.0</td>\n",
       "      <td>0.0</td>\n",
       "      <td>1.0</td>\n",
       "      <td>0.0</td>\n",
       "      <td>0.0</td>\n",
       "      <td>0.0</td>\n",
       "      <td>1.0</td>\n",
       "      <td>0.0</td>\n",
       "      <td>0.0</td>\n",
       "      <td>0.0</td>\n",
       "      <td>0.0</td>\n",
       "      <td>0.0</td>\n",
       "    </tr>\n",
       "    <tr>\n",
       "      <th>t1</th>\n",
       "      <td>0.0</td>\n",
       "      <td>0.0</td>\n",
       "      <td>0.0</td>\n",
       "      <td>0.0</td>\n",
       "      <td>0.0</td>\n",
       "      <td>0.0</td>\n",
       "      <td>0.5</td>\n",
       "      <td>1.0</td>\n",
       "      <td>1.0</td>\n",
       "      <td>0.0</td>\n",
       "      <td>0.0</td>\n",
       "      <td>0.0</td>\n",
       "      <td>0.0</td>\n",
       "      <td>0.0</td>\n",
       "      <td>1.0</td>\n",
       "      <td>0.0</td>\n",
       "      <td>0.0</td>\n",
       "      <td>0.000000</td>\n",
       "      <td>1.0</td>\n",
       "      <td>0.0</td>\n",
       "      <td>0.0</td>\n",
       "      <td>0.0</td>\n",
       "      <td>0.0</td>\n",
       "      <td>0.0</td>\n",
       "      <td>0.0</td>\n",
       "      <td>0.0</td>\n",
       "      <td>0.0</td>\n",
       "      <td>0.0</td>\n",
       "      <td>0.0</td>\n",
       "      <td>0.0</td>\n",
       "      <td>0.0</td>\n",
       "      <td>0.0</td>\n",
       "      <td>0.0</td>\n",
       "      <td>0.0</td>\n",
       "      <td>0.0</td>\n",
       "      <td>0.0</td>\n",
       "      <td>1.0</td>\n",
       "      <td>0.0</td>\n",
       "      <td>0.0</td>\n",
       "      <td>0.0</td>\n",
       "      <td>0.0</td>\n",
       "      <td>0.0</td>\n",
       "      <td>0.0</td>\n",
       "      <td>0.0</td>\n",
       "      <td>0.0</td>\n",
       "      <td>0.0</td>\n",
       "      <td>0.0</td>\n",
       "      <td>0.0</td>\n",
       "      <td>0.0</td>\n",
       "      <td>0.0</td>\n",
       "      <td>0.0</td>\n",
       "      <td>0.0</td>\n",
       "      <td>0.0</td>\n",
       "      <td>1.0</td>\n",
       "      <td>0.0</td>\n",
       "      <td>0.0</td>\n",
       "    </tr>\n",
       "    <tr>\n",
       "      <th>t2</th>\n",
       "      <td>0.5</td>\n",
       "      <td>0.5</td>\n",
       "      <td>0.0</td>\n",
       "      <td>0.0</td>\n",
       "      <td>0.0</td>\n",
       "      <td>0.0</td>\n",
       "      <td>0.0</td>\n",
       "      <td>0.0</td>\n",
       "      <td>0.0</td>\n",
       "      <td>1.0</td>\n",
       "      <td>0.0</td>\n",
       "      <td>0.0</td>\n",
       "      <td>0.0</td>\n",
       "      <td>0.0</td>\n",
       "      <td>0.0</td>\n",
       "      <td>0.0</td>\n",
       "      <td>1.0</td>\n",
       "      <td>0.000000</td>\n",
       "      <td>0.0</td>\n",
       "      <td>0.0</td>\n",
       "      <td>0.0</td>\n",
       "      <td>0.0</td>\n",
       "      <td>0.5</td>\n",
       "      <td>0.0</td>\n",
       "      <td>0.0</td>\n",
       "      <td>0.0</td>\n",
       "      <td>1.0</td>\n",
       "      <td>0.0</td>\n",
       "      <td>0.0</td>\n",
       "      <td>1.0</td>\n",
       "      <td>1.0</td>\n",
       "      <td>0.0</td>\n",
       "      <td>0.0</td>\n",
       "      <td>1.0</td>\n",
       "      <td>0.0</td>\n",
       "      <td>1.0</td>\n",
       "      <td>0.0</td>\n",
       "      <td>0.0</td>\n",
       "      <td>0.0</td>\n",
       "      <td>0.0</td>\n",
       "      <td>0.0</td>\n",
       "      <td>0.0</td>\n",
       "      <td>0.0</td>\n",
       "      <td>0.0</td>\n",
       "      <td>0.5</td>\n",
       "      <td>0.0</td>\n",
       "      <td>0.0</td>\n",
       "      <td>0.0</td>\n",
       "      <td>0.0</td>\n",
       "      <td>1.0</td>\n",
       "      <td>0.0</td>\n",
       "      <td>0.0</td>\n",
       "      <td>0.5</td>\n",
       "      <td>0.0</td>\n",
       "      <td>0.0</td>\n",
       "      <td>0.5</td>\n",
       "    </tr>\n",
       "    <tr>\n",
       "      <th>t3</th>\n",
       "      <td>0.0</td>\n",
       "      <td>0.0</td>\n",
       "      <td>0.0</td>\n",
       "      <td>0.0</td>\n",
       "      <td>0.0</td>\n",
       "      <td>0.0</td>\n",
       "      <td>0.0</td>\n",
       "      <td>0.0</td>\n",
       "      <td>0.0</td>\n",
       "      <td>0.0</td>\n",
       "      <td>0.0</td>\n",
       "      <td>0.0</td>\n",
       "      <td>0.0</td>\n",
       "      <td>0.0</td>\n",
       "      <td>0.0</td>\n",
       "      <td>0.0</td>\n",
       "      <td>0.0</td>\n",
       "      <td>0.333333</td>\n",
       "      <td>0.0</td>\n",
       "      <td>0.0</td>\n",
       "      <td>0.0</td>\n",
       "      <td>1.0</td>\n",
       "      <td>0.0</td>\n",
       "      <td>0.0</td>\n",
       "      <td>0.0</td>\n",
       "      <td>1.0</td>\n",
       "      <td>0.0</td>\n",
       "      <td>0.0</td>\n",
       "      <td>0.0</td>\n",
       "      <td>0.0</td>\n",
       "      <td>0.0</td>\n",
       "      <td>0.0</td>\n",
       "      <td>0.0</td>\n",
       "      <td>0.0</td>\n",
       "      <td>0.0</td>\n",
       "      <td>0.0</td>\n",
       "      <td>0.0</td>\n",
       "      <td>0.5</td>\n",
       "      <td>0.0</td>\n",
       "      <td>0.0</td>\n",
       "      <td>0.5</td>\n",
       "      <td>1.0</td>\n",
       "      <td>0.0</td>\n",
       "      <td>0.0</td>\n",
       "      <td>0.0</td>\n",
       "      <td>0.0</td>\n",
       "      <td>0.0</td>\n",
       "      <td>0.0</td>\n",
       "      <td>1.0</td>\n",
       "      <td>0.0</td>\n",
       "      <td>0.0</td>\n",
       "      <td>0.0</td>\n",
       "      <td>0.0</td>\n",
       "      <td>0.0</td>\n",
       "      <td>0.5</td>\n",
       "      <td>0.5</td>\n",
       "    </tr>\n",
       "    <tr>\n",
       "      <th>t4</th>\n",
       "      <td>0.0</td>\n",
       "      <td>0.5</td>\n",
       "      <td>1.0</td>\n",
       "      <td>0.0</td>\n",
       "      <td>1.0</td>\n",
       "      <td>1.0</td>\n",
       "      <td>0.0</td>\n",
       "      <td>0.0</td>\n",
       "      <td>0.0</td>\n",
       "      <td>0.0</td>\n",
       "      <td>0.0</td>\n",
       "      <td>0.0</td>\n",
       "      <td>0.0</td>\n",
       "      <td>0.0</td>\n",
       "      <td>0.0</td>\n",
       "      <td>0.0</td>\n",
       "      <td>0.0</td>\n",
       "      <td>0.000000</td>\n",
       "      <td>0.0</td>\n",
       "      <td>0.0</td>\n",
       "      <td>0.0</td>\n",
       "      <td>0.0</td>\n",
       "      <td>0.5</td>\n",
       "      <td>0.0</td>\n",
       "      <td>0.0</td>\n",
       "      <td>0.0</td>\n",
       "      <td>0.0</td>\n",
       "      <td>0.0</td>\n",
       "      <td>0.0</td>\n",
       "      <td>0.0</td>\n",
       "      <td>0.0</td>\n",
       "      <td>0.0</td>\n",
       "      <td>0.0</td>\n",
       "      <td>0.0</td>\n",
       "      <td>0.0</td>\n",
       "      <td>0.0</td>\n",
       "      <td>0.0</td>\n",
       "      <td>0.0</td>\n",
       "      <td>0.0</td>\n",
       "      <td>0.0</td>\n",
       "      <td>0.0</td>\n",
       "      <td>0.0</td>\n",
       "      <td>0.0</td>\n",
       "      <td>0.0</td>\n",
       "      <td>0.5</td>\n",
       "      <td>0.0</td>\n",
       "      <td>0.0</td>\n",
       "      <td>0.0</td>\n",
       "      <td>0.0</td>\n",
       "      <td>0.0</td>\n",
       "      <td>0.0</td>\n",
       "      <td>0.0</td>\n",
       "      <td>0.5</td>\n",
       "      <td>0.0</td>\n",
       "      <td>0.0</td>\n",
       "      <td>0.0</td>\n",
       "    </tr>\n",
       "    <tr>\n",
       "      <th>t5</th>\n",
       "      <td>0.5</td>\n",
       "      <td>0.0</td>\n",
       "      <td>0.0</td>\n",
       "      <td>1.0</td>\n",
       "      <td>0.0</td>\n",
       "      <td>0.0</td>\n",
       "      <td>0.0</td>\n",
       "      <td>0.0</td>\n",
       "      <td>0.0</td>\n",
       "      <td>0.0</td>\n",
       "      <td>1.0</td>\n",
       "      <td>1.0</td>\n",
       "      <td>0.0</td>\n",
       "      <td>0.0</td>\n",
       "      <td>0.0</td>\n",
       "      <td>1.0</td>\n",
       "      <td>0.0</td>\n",
       "      <td>0.333333</td>\n",
       "      <td>0.0</td>\n",
       "      <td>1.0</td>\n",
       "      <td>0.0</td>\n",
       "      <td>0.0</td>\n",
       "      <td>0.0</td>\n",
       "      <td>0.0</td>\n",
       "      <td>0.0</td>\n",
       "      <td>0.0</td>\n",
       "      <td>0.0</td>\n",
       "      <td>0.0</td>\n",
       "      <td>0.0</td>\n",
       "      <td>0.0</td>\n",
       "      <td>0.0</td>\n",
       "      <td>1.0</td>\n",
       "      <td>0.0</td>\n",
       "      <td>0.0</td>\n",
       "      <td>0.0</td>\n",
       "      <td>0.0</td>\n",
       "      <td>0.0</td>\n",
       "      <td>0.0</td>\n",
       "      <td>0.0</td>\n",
       "      <td>0.0</td>\n",
       "      <td>0.5</td>\n",
       "      <td>0.0</td>\n",
       "      <td>1.0</td>\n",
       "      <td>1.0</td>\n",
       "      <td>0.0</td>\n",
       "      <td>0.0</td>\n",
       "      <td>0.0</td>\n",
       "      <td>0.0</td>\n",
       "      <td>0.0</td>\n",
       "      <td>0.0</td>\n",
       "      <td>0.0</td>\n",
       "      <td>1.0</td>\n",
       "      <td>0.0</td>\n",
       "      <td>0.0</td>\n",
       "      <td>0.0</td>\n",
       "      <td>0.0</td>\n",
       "    </tr>\n",
       "    <tr>\n",
       "      <th>t6</th>\n",
       "      <td>0.0</td>\n",
       "      <td>0.0</td>\n",
       "      <td>0.0</td>\n",
       "      <td>0.0</td>\n",
       "      <td>0.0</td>\n",
       "      <td>0.0</td>\n",
       "      <td>0.0</td>\n",
       "      <td>0.0</td>\n",
       "      <td>0.0</td>\n",
       "      <td>0.0</td>\n",
       "      <td>0.0</td>\n",
       "      <td>0.0</td>\n",
       "      <td>1.0</td>\n",
       "      <td>0.0</td>\n",
       "      <td>0.0</td>\n",
       "      <td>0.0</td>\n",
       "      <td>0.0</td>\n",
       "      <td>0.000000</td>\n",
       "      <td>0.0</td>\n",
       "      <td>0.0</td>\n",
       "      <td>1.0</td>\n",
       "      <td>0.0</td>\n",
       "      <td>0.0</td>\n",
       "      <td>0.0</td>\n",
       "      <td>0.0</td>\n",
       "      <td>0.0</td>\n",
       "      <td>0.0</td>\n",
       "      <td>2.0</td>\n",
       "      <td>1.0</td>\n",
       "      <td>0.0</td>\n",
       "      <td>0.0</td>\n",
       "      <td>0.0</td>\n",
       "      <td>0.0</td>\n",
       "      <td>0.0</td>\n",
       "      <td>0.0</td>\n",
       "      <td>0.0</td>\n",
       "      <td>0.0</td>\n",
       "      <td>1.0</td>\n",
       "      <td>0.0</td>\n",
       "      <td>2.0</td>\n",
       "      <td>0.0</td>\n",
       "      <td>0.0</td>\n",
       "      <td>0.0</td>\n",
       "      <td>0.0</td>\n",
       "      <td>0.0</td>\n",
       "      <td>1.0</td>\n",
       "      <td>0.0</td>\n",
       "      <td>1.0</td>\n",
       "      <td>0.0</td>\n",
       "      <td>0.0</td>\n",
       "      <td>0.0</td>\n",
       "      <td>0.0</td>\n",
       "      <td>0.0</td>\n",
       "      <td>0.0</td>\n",
       "      <td>1.0</td>\n",
       "      <td>0.0</td>\n",
       "    </tr>\n",
       "  </tbody>\n",
       "</table>\n",
       "</div>"
      ],
      "text/plain": [
       "     's  abe  abenomics  accelerate  ask   be  china  confront  corruption  country  cuba  daily  deer  differ  domestic  ease  economic   economy  endemic  fall  find  fix  future  greatly  grow  hard  heal  horse  hunt  japan  minister  obama  pace  people  politically  prime  problem  putin  rapid  rid  ruble  russia  russian  sanction  shinzo  shirt  strong  thing  tumble  turmoil   us  value  view  violence  vladimir  work\n",
       "t0  0.0  0.0        0.0         0.0  0.0  0.0    0.5       0.0         0.0      0.0   0.0    0.0   0.0     1.0       0.0   0.0       0.0  0.666667      0.0   0.0   0.0  0.0     0.0      1.0   1.0   0.0   0.0    0.0   0.0    0.0       0.0    0.0   1.0     0.0          1.0    0.0      0.0    0.0    1.0  0.0    0.0     0.0      0.0       0.0     0.0    0.0     1.0    0.0     0.0      0.0  1.0    0.0   0.0       0.0       0.0   0.0\n",
       "t1  0.0  0.0        0.0         0.0  0.0  0.0    0.5       1.0         1.0      0.0   0.0    0.0   0.0     0.0       1.0   0.0       0.0  0.000000      1.0   0.0   0.0  0.0     0.0      0.0   0.0   0.0   0.0    0.0   0.0    0.0       0.0    0.0   0.0     0.0          0.0    0.0      1.0    0.0    0.0  0.0    0.0     0.0      0.0       0.0     0.0    0.0     0.0    0.0     0.0      0.0  0.0    0.0   0.0       1.0       0.0   0.0\n",
       "t2  0.5  0.5        0.0         0.0  0.0  0.0    0.0       0.0         0.0      1.0   0.0    0.0   0.0     0.0       0.0   0.0       1.0  0.000000      0.0   0.0   0.0  0.0     0.5      0.0   0.0   0.0   1.0    0.0   0.0    1.0       1.0    0.0   0.0     1.0          0.0    1.0      0.0    0.0    0.0  0.0    0.0     0.0      0.0       0.0     0.5    0.0     0.0    0.0     0.0      1.0  0.0    0.0   0.5       0.0       0.0   0.5\n",
       "t3  0.0  0.0        0.0         0.0  0.0  0.0    0.0       0.0         0.0      0.0   0.0    0.0   0.0     0.0       0.0   0.0       0.0  0.333333      0.0   0.0   0.0  1.0     0.0      0.0   0.0   1.0   0.0    0.0   0.0    0.0       0.0    0.0   0.0     0.0          0.0    0.0      0.0    0.5    0.0  0.0    0.5     1.0      0.0       0.0     0.0    0.0     0.0    0.0     1.0      0.0  0.0    0.0   0.0       0.0       0.5   0.5\n",
       "t4  0.0  0.5        1.0         0.0  1.0  1.0    0.0       0.0         0.0      0.0   0.0    0.0   0.0     0.0       0.0   0.0       0.0  0.000000      0.0   0.0   0.0  0.0     0.5      0.0   0.0   0.0   0.0    0.0   0.0    0.0       0.0    0.0   0.0     0.0          0.0    0.0      0.0    0.0    0.0  0.0    0.0     0.0      0.0       0.0     0.5    0.0     0.0    0.0     0.0      0.0  0.0    0.0   0.5       0.0       0.0   0.0\n",
       "t5  0.5  0.0        0.0         1.0  0.0  0.0    0.0       0.0         0.0      0.0   1.0    1.0   0.0     0.0       0.0   1.0       0.0  0.333333      0.0   1.0   0.0  0.0     0.0      0.0   0.0   0.0   0.0    0.0   0.0    0.0       0.0    1.0   0.0     0.0          0.0    0.0      0.0    0.0    0.0  0.0    0.5     0.0      1.0       1.0     0.0    0.0     0.0    0.0     0.0      0.0  0.0    1.0   0.0       0.0       0.0   0.0\n",
       "t6  0.0  0.0        0.0         0.0  0.0  0.0    0.0       0.0         0.0      0.0   0.0    0.0   1.0     0.0       0.0   0.0       0.0  0.000000      0.0   0.0   1.0  0.0     0.0      0.0   0.0   0.0   0.0    2.0   1.0    0.0       0.0    0.0   0.0     0.0          0.0    0.0      0.0    1.0    0.0  2.0    0.0     0.0      0.0       0.0     0.0    1.0     0.0    1.0     0.0      0.0  0.0    0.0   0.0       0.0       1.0   0.0"
      ]
     },
     "execution_count": 17,
     "metadata": {},
     "output_type": "execute_result"
    }
   ],
   "source": [
    "df = tf_idf_scores(s_doc_list)\n",
    "df"
   ]
  },
  {
   "cell_type": "markdown",
   "metadata": {},
   "source": [
    "## 7. Visualize the TF-IDF"
   ]
  },
  {
   "cell_type": "markdown",
   "metadata": {},
   "source": [
    "Normalize the data before displaying it in a heatmap. Calculation: (value - take the minimum value over the rows and columns) / (take the minimum over the rows and columns - maximum value over the rows and columns)"
   ]
  },
  {
   "cell_type": "code",
   "execution_count": 18,
   "metadata": {
    "scrolled": false
   },
   "outputs": [
    {
     "data": {
      "image/png": "[encoded data removed]",
      "text/plain": [
       "<Figure size 1440x288 with 2 Axes>"
      ]
     },
     "metadata": {},
     "output_type": "display_data"
    }
   ],
   "source": [
    "plt.figure(figsize=(20,4))\n",
    "plt.title('TF-IDF heatmap')\n",
    "df_norm = (df - df.min().min())/(df.max().max() - df.min().min())\n",
    "sns.heatmap(df_norm)\n",
    "plt.ylabel('Document name')\n",
    "plt.xlabel('spaCy token')\n",
    "plt.show()"
   ]
  },
  {
   "cell_type": "markdown",
   "metadata": {},
   "source": [
    "The lighter the color the higher the TF-IDF value."
   ]
  }
 ],
 "metadata": {
  "kernelspec": {
   "display_name": "Python 3",
   "language": "python",
   "name": "python3"
  },
  "language_info": {
   "codemirror_mode": {
    "name": "ipython",
    "version": 3
   },
   "file_extension": ".py",
   "mimetype": "text/x-python",
   "name": "python",
   "nbconvert_exporter": "python",
   "pygments_lexer": "ipython3",
   "version": "3.7.1"
  }
 },
 "nbformat": 4,
 "nbformat_minor": 2
}
